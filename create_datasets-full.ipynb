{
 "cells": [
  {
   "cell_type": "code",
   "execution_count": 1,
   "metadata": {},
   "outputs": [],
   "source": [
    "pct = 'full'"
   ]
  },
  {
   "cell_type": "code",
   "execution_count": 2,
   "metadata": {},
   "outputs": [],
   "source": [
    "!mkdir -p {pct}"
   ]
  },
  {
   "cell_type": "code",
   "execution_count": 3,
   "metadata": {},
   "outputs": [
    {
     "name": "stdout",
     "output_type": "stream",
     "text": [
      "download: s3://yifeim-code-data/criteo-raw/full/val.txt.gz to full/val.txt.gz\n",
      "download: s3://yifeim-code-data/criteo-raw/full/train.txt.gz to full/train.txt.gz\n",
      "download: s3://yifeim-code-data/criteo-raw/full/test.txt.gz to full/test.txt.gz\n"
     ]
    }
   ],
   "source": [
    "!aws s3 sync s3://yifeim-code-data/criteo-raw/{pct} {pct} --exclude \"*\" --include \"*.gz\""
   ]
  },
  {
   "cell_type": "code",
   "execution_count": 4,
   "metadata": {},
   "outputs": [
    {
     "name": "stdout",
     "output_type": "stream",
     "text": [
      "download: s3://yifeim-code-data/criteo-raw/full/vocab.txt to full/vocab.txt\n"
     ]
    }
   ],
   "source": [
    "!aws s3 sync s3://yifeim-code-data/criteo-raw/{pct} {pct} --exclude \"*\" --include \"vocab.txt\""
   ]
  },
  {
   "cell_type": "code",
   "execution_count": 5,
   "metadata": {},
   "outputs": [],
   "source": [
    "%matplotlib inline\n",
    "import pylab as pl"
   ]
  },
  {
   "cell_type": "code",
   "execution_count": 6,
   "metadata": {},
   "outputs": [],
   "source": [
    "import numpy as np"
   ]
  },
  {
   "cell_type": "code",
   "execution_count": 7,
   "metadata": {},
   "outputs": [],
   "source": [
    "import gzip"
   ]
  },
  {
   "cell_type": "code",
   "execution_count": 8,
   "metadata": {},
   "outputs": [
    {
     "name": "stdout",
     "output_type": "stream",
     "text": [
      "example 68965824: 57b4be06cf2b8d6c1f0679601ed1b76057b4be0790c591796bc73fcdc29c06db 0 2.973581e-02 1 12 1:300 2:600 3:0 4:47 5:1585 6:5 7:0 8:56 9:74 10:0\r\n",
      "0 exid:68965824 11:1 12:0 13:0 14:0 15:0 16:4 23:55 24:321 25:155 32:90 35:204\r\n",
      "0 exid:68965824 11:0 12:0 13:1 14:0 15:1 18:4 19:13 20:11 24:320 25:151 34:24 35:201\r\n",
      "0 exid:68965824 11:0 12:0 13:1 14:0 15:1 18:4 19:13 20:77 24:320 25:151 34:24 35:201\r\n",
      "0 exid:68965824 11:0 12:0 13:1 14:0 15:1 18:4 19:13 20:77 24:320 25:151 34:24 35:201\r\n",
      "0 exid:68965824 11:0 12:0 13:1 14:0 15:1 18:4 19:13 20:10 24:320 25:151 34:24 35:201\r\n",
      "0 exid:68965824 11:0 12:0 13:1 14:0 15:1 18:4 19:13 20:40 24:320 25:151 34:24 35:201\r\n",
      "0 exid:68965824 11:0 12:0 13:0 14:0 15:0 24:320 25:154 35:203\r\n",
      "0 exid:68965824 11:0 12:0 13:1 14:0 15:1 18:4 19:13 20:10 24:320 25:151 34:24 35:201\r\n",
      "0 exid:68965824 11:0 12:0 13:1 14:0 15:1 18:4 19:13 20:10 24:320 25:151 34:24 35:201\r\n",
      "\r\n",
      "gzip: stdout: Broken pipe\r\n"
     ]
    }
   ],
   "source": [
    "!gunzip < {pct}/train.txt.gz | head -n 10 "
   ]
  },
  {
   "cell_type": "code",
   "execution_count": 9,
   "metadata": {},
   "outputs": [],
   "source": [
    "import pandas as pd, mxnet as mx"
   ]
  },
  {
   "cell_type": "code",
   "execution_count": 10,
   "metadata": {},
   "outputs": [],
   "source": [
    "vocab_df = pd.read_csv('{}/vocab.txt'.format(pct), header=None)"
   ]
  },
  {
   "cell_type": "code",
   "execution_count": 11,
   "metadata": {},
   "outputs": [],
   "source": [
    "shape = len(vocab_df)+1"
   ]
  },
  {
   "cell_type": "code",
   "execution_count": 12,
   "metadata": {},
   "outputs": [
    {
     "data": {
      "text/plain": [
       "84311"
      ]
     },
     "execution_count": 12,
     "metadata": {},
     "output_type": "execute_result"
    }
   ],
   "source": [
    "shape"
   ]
  },
  {
   "cell_type": "code",
   "execution_count": 13,
   "metadata": {},
   "outputs": [],
   "source": [
    "vocab_df['ind'] = range(1, shape)"
   ]
  },
  {
   "cell_type": "code",
   "execution_count": 14,
   "metadata": {},
   "outputs": [],
   "source": [
    "str2ind = vocab_df.set_index(0)['ind'].to_dict()"
   ]
  },
  {
   "cell_type": "code",
   "execution_count": 15,
   "metadata": {},
   "outputs": [],
   "source": [
    "import pickle"
   ]
  },
  {
   "cell_type": "code",
   "execution_count": null,
   "metadata": {},
   "outputs": [],
   "source": [
    "for split in ['train','val','test']:\n",
    "    with gzip.open('{}/{}.txt.gz'.format(pct, split), 'rt') as f:\n",
    "        num_examples = 0\n",
    "        \n",
    "        for wcl, line in enumerate(f):\n",
    "            line = line.strip('\\n')\n",
    "            \n",
    "            if line.startswith('example'):\n",
    "                num_examples += 1\n",
    "            \n",
    "    print(split, 'done', num_examples, wcl)"
   ]
  },
  {
   "cell_type": "code",
   "execution_count": null,
   "metadata": {},
   "outputs": [],
   "source": [
    "def csr_vstack(*arr, dtype='float32', shape=None):\n",
    "    data = []\n",
    "    indices = []\n",
    "    indptr = [0]\n",
    "\n",
    "    shape0 = 0\n",
    "    shape1 = arr[0].shape[1] if shape is None else shape[1]\n",
    "    nnz = 0\n",
    "\n",
    "    for i,a in enumerate(arr):\n",
    "        if a is None:\n",
    "            indptr.append(nnz)\n",
    "            shape0 += 1\n",
    "        else:\n",
    "            if type(a) != ss.csr_matrix:\n",
    "                a = ss.csr_matrix(a)\n",
    "\n",
    "            assert a.shape[1] == shape1\n",
    "\n",
    "            data   .extend(list(a.data))\n",
    "            indices.extend(list(a.indices))\n",
    "            indptr .extend([iptr+nnz for iptr in a.indptr[1:]])\n",
    "\n",
    "            shape0 += a.shape[0]\n",
    "            nnz += a.nnz\n",
    "\n",
    "    if shape is None:\n",
    "        shape = (shape0, shape1)\n",
    "\n",
    "    csr = ss.csr_matrix((data, indices, indptr), shape=shape, dtype=dtype)\n",
    "    return csr"
   ]
  },
  {
   "cell_type": "code",
   "execution_count": null,
   "metadata": {},
   "outputs": [],
   "source": [
    "import tqdm"
   ]
  },
  {
   "cell_type": "code",
   "execution_count": null,
   "metadata": {},
   "outputs": [],
   "source": [
    "import scipy.sparse as ss"
   ]
  },
  {
   "cell_type": "code",
   "execution_count": 27,
   "metadata": {},
   "outputs": [],
   "source": [
    "def fold_dataset(split):\n",
    "    record = mx.recordio.MXIndexedRecordIO(\n",
    "        './{}/{}.idx'.format(pct, split),\n",
    "        './{}/{}.rec'.format(pct, split),\n",
    "        'w')\n",
    "    \n",
    "    with gzip.open('{}/{}.txt.gz'.format(pct, split), 'rt') as f:\n",
    "        num_examples = 0\n",
    "        \n",
    "        A = []\n",
    "        \n",
    "        for line in tqdm.tqdm_notebook(f):\n",
    "            line = line.strip('\\n')\n",
    "            \n",
    "            if line.startswith('example'):\n",
    "                if len(A):\n",
    "                    A = csr_vstack(*A)\n",
    "                    record.write_idx(int(idx[:-1]), pickle.dumps([\n",
    "                        dense,\n",
    "                        (x.data, x.indices, x.indptr, x.shape),\n",
    "                        (A.data, A.indices, A.indptr, A.shape),\n",
    "                        A.shape[0],\n",
    "                        float(mu), float(rew)]))\n",
    "                    A = []\n",
    "                num_examples += 1\n",
    "#                 if num_examples > 7117:\n",
    "#                     break\n",
    "                    \n",
    "                _, idx, _, rew, mu, d1, d2, *keys = line.split(' ')\n",
    "                dense = [int(d1), int(d2)]\n",
    "                x = ss.csr_matrix((\n",
    "                    [1./np.sqrt(len(keys))] * len(keys),\n",
    "                    [str2ind.get(k,0) for k in keys],\n",
    "                    [0, len(keys)]), shape=(1, shape))\n",
    "                \n",
    "            else:\n",
    "                _, _, *keys = line.split(' ')\n",
    "                A.append(ss.csr_matrix((\n",
    "                    [1./np.sqrt(len(keys))] * len(keys),\n",
    "                    [str2ind.get(k,0) for k in keys],\n",
    "                    [0, len(keys)]), shape=(1, shape))\n",
    "                )\n",
    "                \n",
    "        if len(A):\n",
    "                    A = csr_vstack(*A)\n",
    "                    record.write_idx(int(idx[:-1]), pickle.dumps([\n",
    "                        dense,\n",
    "                        (x.data, x.indices, x.indptr, x.shape),\n",
    "                        (A.data, A.indices, A.indptr, A.shape),\n",
    "                        A.shape[0],\n",
    "                        float(mu), float(rew)]))\n",
    "                    A = []\n",
    "            \n",
    "        record.close()\n",
    "            \n",
    "    print(split, 'done')"
   ]
  },
  {
   "cell_type": "code",
   "execution_count": 28,
   "metadata": {},
   "outputs": [],
   "source": [
    "from multiprocessing import Pool"
   ]
  },
  {
   "cell_type": "code",
   "execution_count": null,
   "metadata": {},
   "outputs": [],
   "source": [
    "with Pool() as p:\n",
    "    p.map(fold_dataset, ['train','val','test'])"
   ]
  },
  {
   "cell_type": "code",
   "execution_count": 30,
   "metadata": {},
   "outputs": [
    {
     "name": "stdout",
     "output_type": "stream",
     "text": [
      "7087738 full/train.idx\r\n"
     ]
    }
   ],
   "source": [
    "!wc -l {pct}/train.idx"
   ]
  },
  {
   "cell_type": "code",
   "execution_count": 32,
   "metadata": {},
   "outputs": [
    {
     "name": "stdout",
     "output_type": "stream",
     "text": [
      "upload: full/train.idx to s3://yifeim-code-data/criteo-rec/full/train.idx            6.5 GiB (87.5 MiB/s) with ~8 file(s) remaining (calculating...)\n",
      "upload: full/test.idx to s3://yifeim-code-data/criteo-rec/full/test.idx               \n",
      "upload: full/val.idx to s3://yifeim-code-data/criteo-rec/full/val.idx              calculating...)\n",
      "upload: full/train.txt.gz to s3://yifeim-code-data/criteo-rec/full/train.txt.gz                                                                \n",
      "upload: full/test.txt.gz to s3://yifeim-code-data/criteo-rec/full/test.txt.gz5 MiB/s) with 6 file(s) remainingremaining\n",
      "upload: full/vocab.txt to s3://yifeim-code-data/criteo-rec/full/vocab.txt\n",
      "upload: full/val.txt.gz to s3://yifeim-code-data/criteo-rec/full/val.txt.gzremainingremainingremainingremaining\n"
     ]
    },
    {
     "name": "stdout",
     "output_type": "stream",
     "text": [
      "Completed 45.4 GiB/48.1 GiB (102.3 MiB/s) with 3 file(s) remainingremainingremaining3 file(s) remaining (103.1 MiB/s) with 3 file(s) remainingremainingremainingremaining3 file(s) remainingremainingremainingremaining3 file(s) remainingremainingremainingremainingremainingremaining3 file(s) remainingremainingremainingremainingremainingremainingremainingremainingremainingremainingremainingremainingB/s) with 3 file(s) remainingremainingremainingB/s) with 3 file(s) remaining3 file(s) remaining3 file(s) remainingremaining3 file(s) remainingremainingremainingremainingremainingB/s) with 3 file(s) remainingB/48.1 GiB (103.1 MiB/s) with 3 file(s) remainingremainingremainingremaining3 file(s) remainingremainingremainingB/s) with 3 file(s) remainingremaining3 file(s) remainingremaining3 file(s) remaining (103.1 MiB/s) with 3 file(s) remaininged 23.5 GiB/48.1 GiB (103.1 MiB/s) with 3 file(s) remainingngremainingremainingremaining3 file(s) remainingremainingremainingB/s) with 3 file(s) remainingremainingremainingremainingremainingremainingremainingremainingremainingremainingremaining3 file(s) remainingremainingremainingremainingremainingremainingremainingremainingremainingremainingB/s) with 3 file(s) remainingremainingremainingremainingremainingremainingremainingremainingremainingremainingremainingremainingremainingremainingremainingremainingB/s) with 3 file(s) remainingremainingremainingremainingremainingremainingremainingremainingremainingremaining3 file(s) remainingremainingremainingB/s) with 3 file(s) remaining (102.5 MiB/s) with 3 file(s) remainingremainingremainingremainingremainingremainingremainingremainingremainingremainingremainingremainingremainingremainingremainingremainingremainingremainingremainingremainingremainingremainingremaining3 file(s) remainingremainingremainingremainingremaining3 file(s) remainingremainingremainingremainingremainingremainingremainingB/s) with 3 file(s) remaining3 file(s) remainingremainingremainingremaining3 file(s) remainingremainingremainingremainingremainingremainingB/s) with 3 file(s) remainingremainingremainingremainingremainingremainingremainingremainingremainingB/s) with 3 file(s) remainingremainingremainingremainingremaining3 file(s) remaining3 file(s) remainingremainingremainingremainingremainingremainingremainingremainingB/s) with 3 file(s) remainingremainingB/s) with 3 file(s) remaining (102.3 MiB/s) with 3 file(s) remainingremaining3 file(s) remainingremainingremainingremainingB/s) with 3 file(s) remainingremainingremaining3 file(s) remainingremainingremainingremainingremainingremainingremainingB/s) with 3 file(s) remainingremainingremainingremaining3 file(s) remainingremaining3 file(s) remaining (102.2 MiB/s) with 3 file(s) remainingremainingremainingremaining3 file(s) remaining (102.2 MiB/s) with 3 file(s) remainingremainingremainingremainingremainingremainingremainingB/s) with 3 file(s) remainingremainingremaining3 file(s) remainingremainingremainingremainingB/s) with 3 file(s) remaining (102.1 MiB/s) with 3 file(s) remainingB/48.1 GiB (102.1 MiB/s) with 3 file(s) remainingngs) remaining MiB/s) with 3 file(s) remainingGiB (102.1 MiB/s) with 3 file(s) remainingleted 39.7 GiB/48.1 GiB (102.1 MiB/s) with 3 file(s) remainingle(s) remaining2.1 MiB/s) with 3 file(s) remaining9.8 GiB/48.1 GiB (102.1 MiB/s) with 3 file(s) remainingremainingremaining3 file(s) remaining (102.2 MiB/s) with 3 file(s) remainingngth 3 file(s) remainingremainingremaining3 file(s) remaining (102.2 MiB/s) with 3 file(s) remainingB/48.1 GiB (102.2 MiB/s) with 3 file(s) remaininged 40.0 GiB/48.1 GiB (102.2 MiB/s) with 3 file(s) remainings) remainingth 3 file(s) remaining MiB/s) with 3 file(s) remainingremaining3 file(s) remaining (102.2 MiB/s) with 3 file(s) remainingB/48.1 GiB (102.2 MiB/s) with 3 file(s) remaininged 40.2 GiB/48.1 GiB (102.1 MiB/s) with 3 file(s) remainings) remainingth 3 file(s) remaining3 file(s) remainingB/s) with 3 file(s) remainingB/48.1 GiB (102.1 MiB/s) with 3 file(s) remaining3 file(s) remaining3 file(s) remainingremainingremainingremainingB/s) with 3 file(s) remainingremaining3 file(s) remaining (102.1 MiB/s) with 3 file(s) remaininged 40.8 GiB/48.1 GiB (102.1 MiB/s) with 3 file(s) remainingngth 3 file(s) remainingGiB (102.1 MiB/s) with 3 file(s) remainingleted 40.8 GiB/48.1 GiB (102.1 MiB/s) with 3 file(s) remainingle(s) remaining with 3 file(s) remaining.1 GiB (102.1 MiB/s) with 3 file(s) remainingompleted 40.9 GiB/48.1 GiB (102.1 MiB/s) with 3 file(s) remainingremainingB/s) with 3 file(s) remainingB/48.1 GiB (102.1 MiB/s) with 3 file(s) remainingremaining3 file(s) remaining (102.1 MiB/s) with 3 file(s) remainingB/48.1 GiB (102.1 MiB/s) with 3 file(s) remainingngth 3 file(s) remainingremainingremainingremainingremaining3 file(s) remainingremainingremainingremaining3 file(s) remaining (102.2 MiB/s) with 3 file(s) remaininged 41.3 GiB/48.1 GiB (102.2 MiB/s) with 3 file(s) remainings) remaining MiB/s) with 3 file(s) remainingremainingremaining3 file(s) remainingB/s) with 3 file(s) remaininged 41.4 GiB/48.1 GiB (102.2 MiB/s) with 3 file(s) remainingngremainingremaining3 file(s) remainingremainingremainingB/s) with 3 file(s) remainingremainingremaining3 file(s) remainingremainingremaining3 file(s) remainingB/48.1 GiB (102.2 MiB/s) with 3 file(s) remaininged 41.8 GiB/48.1 GiB (102.2 MiB/s) with 3 file(s) remainingngremainingremaining3 file(s) remaining (102.2 MiB/s) with 3 file(s) remaininged 42.0 GiB/48.1 GiB (102.2 MiB/s) with 3 file(s) remainingremaining3 file(s) remainingremainingremaining3 file(s) remainingremainingremainingB/s) with 3 file(s) remainingremainingB/s) with 3 file(s) remainingremainingB/s) with 3 file(s) remainingremainingremainingremainingremainingB/s) with 3 file(s) remainingremaining3 file(s) remaining (102.2 MiB/s) with 3 file(s) remaininged 42.7 GiB/48.1 GiB (102.2 MiB/s) with 3 file(s) remainings) remainingremaining3 file(s) remainingremainingremainingremainingremainingremainingremainingremainingremainingremaining3 file(s) remaining (102.2 MiB/s) with 3 file(s) remainingB/48.1 GiB (102.2 MiB/s) with 3 file(s) remaininged 43.1 GiB/48.1 GiB (102.2 MiB/s) with 3 file(s) remainingremainingB/s) with 3 file(s) remainingremaining3 file(s) remainingremainingremainingB/s) with 3 file(s) remainingremainingB/s) with 3 file(s) remainingremaining3 file(s) remainingremainingremaining3 file(s) remaining (102.2 MiB/s) with 3 file(s) remaininged 43.8 GiB/48.1 GiB (102.2 MiB/s) with 3 file(s) remainings) remainingremaining3 file(s) remainingremainingremainingremainingB/s) with 3 file(s) remainingremainingremainingremainingremainingremainingremainingB/s) with 3 file(s) remainingremainingB/s) with 3 file(s) remaining (102.2 MiB/s) with 3 file(s) remaininged 44.6 GiB/48.1 GiB (102.2 MiB/s) with 3 file(s) remainings) remaining MiB/s) with 3 file(s) remainingremainingremainingB/s) with 3 file(s) remainingremainingremainingremainingB/s) with 3 file(s) remainingremaining3 file(s) remainingremaining3 file(s) remaining (102.3 MiB/s) with 3 file(s) remaininged 45.0 GiB/48.1 GiB (102.3 MiB/s) with 3 file(s) remainings) remainingremaining3 file(s) remainingremainingB/s) with 3 file(s) remaining3 file(s) remainingremainingremaining3 file(s) remaining (102.2 MiB/s) with 3 file(s) remainingB/48.1 GiB (102.3 MiB/s) with 3 file(s) remainingngremainingB/s) with 3 file(s) remaining (102.3 MiB/s) with 3 file(s) remainingB/48.1 GiB (102.2 MiB/s) with 3 file(s) remaining\r",
      "upload: full/train.rec to s3://yifeim-code-data/criteo-rec/full/train.recngB/s) with 3 file(s) remaining (102.3 MiB/s) with 3 file(s) remainingB/48.1 GiB (102.3 MiB/s) with 3 file(s) remainingremainingremainingremainingB/s) with 3 file(s) remaining (102.3 MiB/s) with 3 file(s) remaininged 45.8 GiB/48.1 GiB (102.3 MiB/s) with 3 file(s) remainings) remaining3 file(s) remainingremainingremaining3 file(s) remainingremainingB/s) with 3 file(s) remainingremainingB/s) with 3 file(s) remainingB/48.1 GiB (102.3 MiB/s) with 3 file(s) remainingremainingremainingB/s) with 3 file(s) remainingremaining3 file(s) remaining (102.3 MiB/s) with 3 file(s) remainingremainingremaining3 file(s) remainingremainingremainingremainingremainingremainingremainingremainingremainingremainingremainingremainingremaining3 file(s) remaining (102.3 MiB/s) with 3 file(s) remainingremainingremainingremainingB/s) with 3 file(s) remainingremainingB/s) with 3 file(s) remainingremainingB/s) with 3 file(s) remaining (102.4 MiB/s) with 3 file(s) remaininged 47.1 GiB/48.1 GiB (102.4 MiB/s) with 3 file(s) remainingremainingremaining3 file(s) remaining (102.4 MiB/s) with 3 file(s) remainingremaining3 file(s) remaining (102.4 MiB/s) with 3 file(s) remainingremainingB/s) with 3 file(s) remaining (102.3 MiB/s) with 3 file(s) remainingB/48.1 GiB (102.3 MiB/s) with 3 file(s) remainingngs) remainingth 3 file(s) remainingGiB (102.3 MiB/s) with 3 file(s) remainingleted 47.3 GiB/48.1 GiB (102.3 MiB/s) with 3 file(s) remaining3 file(s) remainingremaining3 file(s) remaining (102.3 MiB/s) with 3 file(s) remaininged 47.4 GiB/48.1 GiB (102.3 MiB/s) with 3 file(s) remainingremainingremainingremaining3 file(s) remainingremainingremainingB/s) with 3 file(s) remainingremainingB/s) with 3 file(s) remaining (102.3 MiB/s) with 3 file(s) remaininged 47.7 GiB/48.1 GiB (102.3 MiB/s) with 3 file(s) remaining\n",
      "upload: full/val.rec to s3://yifeim-code-data/criteo-rec/full/val.recaining2 file(s) remaining (102.3 MiB/s) with 2 file(s) remainingB/48.1 GiB (102.3 MiB/s) with 2 file(s) remaininged 47.8 GiB/48.1 GiB (102.3 MiB/s) with 2 file(s) remainings) remaining MiB/s) with 2 file(s) remainingremaining\n",
      "upload: full/test.rec to s3://yifeim-code-data/criteo-rec/full/test.recningremainingB/s) with 1 file(s) remainingremaining\n"
     ]
    }
   ],
   "source": [
    "!aws s3 sync {pct} s3://yifeim-code-data/criteo-rec/{pct} --delete"
   ]
  },
  {
   "cell_type": "code",
   "execution_count": 34,
   "metadata": {},
   "outputs": [
    {
     "name": "stdout",
     "output_type": "stream",
     "text": [
      "2018-10-04 17:49:17  143362983 test.idx\r\n",
      "2018-10-04 17:49:17 15399403172 test.rec\r\n",
      "2018-10-04 17:49:17 1668720811 test.txt.gz\r\n",
      "2018-10-04 17:49:17  143360969 train.idx\r\n",
      "2018-10-04 17:49:17 15402474916 train.rec\r\n",
      "2018-10-04 17:49:26 1669613098 train.txt.gz\r\n",
      "2018-10-04 17:49:33  143360304 val.idx\r\n",
      "2018-10-04 17:49:34 15399459220 val.rec\r\n",
      "2018-10-04 17:50:47 1668968200 val.txt.gz\r\n",
      "2018-10-04 17:51:03     664116 vocab.txt\r\n"
     ]
    }
   ],
   "source": [
    "!aws s3 ls s3://yifeim-code-data/criteo-rec/{pct}/"
   ]
  },
  {
   "cell_type": "code",
   "execution_count": null,
   "metadata": {},
   "outputs": [],
   "source": []
  },
  {
   "cell_type": "code",
   "execution_count": null,
   "metadata": {},
   "outputs": [],
   "source": []
  },
  {
   "cell_type": "code",
   "execution_count": null,
   "metadata": {},
   "outputs": [],
   "source": []
  }
 ],
 "metadata": {
  "kernelspec": {
   "display_name": "Python 3",
   "language": "python",
   "name": "python3"
  },
  "language_info": {
   "codemirror_mode": {
    "name": "ipython",
    "version": 3
   },
   "file_extension": ".py",
   "mimetype": "text/x-python",
   "name": "python",
   "nbconvert_exporter": "python",
   "pygments_lexer": "ipython3",
   "version": "3.7.0"
  }
 },
 "nbformat": 4,
 "nbformat_minor": 2
}
